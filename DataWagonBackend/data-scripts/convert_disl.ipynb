{
 "cells": [
  {
   "cell_type": "code",
   "execution_count": 1,
   "id": "initial_id",
   "metadata": {
    "collapsed": true,
    "ExecuteTime": {
     "end_time": "2023-11-11T12:24:14.378605300Z",
     "start_time": "2023-11-11T12:24:14.186089900Z"
    }
   },
   "outputs": [],
   "source": [
    "import pandas as pd"
   ]
  },
  {
   "cell_type": "code",
   "execution_count": 3,
   "outputs": [],
   "source": [
    "df2 = pd.read_excel('./data/STATION_COORDS_HACKATON.xlsx')\n",
    "df2 = df2.interpolate()\n",
    "\n",
    "df = pd.concat(pd.read_excel('./data/DISL_HACKATON.xlsx', sheet_name=None), ignore_index=True)"
   ],
   "metadata": {
    "collapsed": false,
    "ExecuteTime": {
     "end_time": "2023-11-11T12:43:13.935782100Z",
     "start_time": "2023-11-11T12:34:16.845019400Z"
    }
   },
   "id": "41c7db7056a4f77b"
  },
  {
   "cell_type": "code",
   "execution_count": 4,
   "outputs": [],
   "source": [
    "# sort by WAGNUM and OPERDATE\n",
    "df = df.sort_values(by=['WAGNUM', 'OPERDATE'])"
   ],
   "metadata": {
    "collapsed": false,
    "ExecuteTime": {
     "end_time": "2023-11-11T12:43:25.254053700Z",
     "start_time": "2023-11-11T12:43:19.673067Z"
    }
   },
   "id": "4375d94a00a69d70"
  },
  {
   "cell_type": "code",
   "execution_count": 6,
   "outputs": [],
   "source": [
    "wagons = {}\n",
    "trains = {}\n",
    "\n",
    "# for i in range(50000):\n",
    "for i in range(len(df)):\n",
    "    try:\n",
    "        wagon_id = int(df['WAGNUM'][i])\n",
    "        start_station_id = int(df['ST_ID_DISL'][i])\n",
    "        end_station_id = int(df['ST_ID_DEST'][i])\n",
    "        train_idx = df['TRAIN_INDEX'][i]\n",
    "    except:\n",
    "        continue\n",
    "    \n",
    "    if not train_idx:\n",
    "        continue\n",
    "\n",
    "    try:\n",
    "        train_start_station_id = int(train_idx.split('-')[0])\n",
    "        train_id = int(train_idx.split('-')[1])\n",
    "        train_end_station_id = int(train_idx.split('-')[2])\n",
    "    except:\n",
    "        # print(f'{train_idx}')\n",
    "        continue\n",
    "\n",
    "    ts = df['OPERDATE'][i]\n",
    "\n",
    "    # check if station exists from pd2\n",
    "    if start_station_id not in df2['ST_ID'].values:\n",
    "        # print(f'{start_station_id}')\n",
    "        continue\n",
    "\n",
    "    if end_station_id not in df2['ST_ID'].values:\n",
    "        # print(f'{end_station_id}')\n",
    "        continue\n",
    "\n",
    "    if wagon_id not in wagons:\n",
    "        wagons[wagon_id] = {\n",
    "            'train_id': train_id,\n",
    "            'current_station_id': start_station_id,\n",
    "            'target_station_id': end_station_id,\n",
    "            'ts': ts\n",
    "        }\n",
    "    elif wagons[wagon_id]['ts'] < ts:\n",
    "        if wagons[wagon_id]['current_station_id'] != start_station_id:\n",
    "            wagons[wagon_id]['ts'] = ts\n",
    "\n",
    "        wagons[wagon_id]['current_station_id'] = start_station_id\n",
    "        wagons[wagon_id]['target_station_id'] = end_station_id\n",
    "\n",
    "    if train_id not in trains:\n",
    "        trains[train_id] = {\n",
    "            'start_station_id': train_start_station_id,\n",
    "            'current_station_id': start_station_id,\n",
    "            'end_station_id': train_end_station_id,\n",
    "            'ts': ts\n",
    "        }\n",
    "    elif trains[train_id]['ts'] < ts:\n",
    "        trains[train_id]['start_station_id'] = train_start_station_id\n",
    "        trains[train_id]['current_station_id'] = start_station_id\n",
    "        trains[train_id]['end_station_id'] = train_end_station_id\n",
    "        trains[train_id]['ts'] = ts"
   ],
   "metadata": {
    "collapsed": false,
    "ExecuteTime": {
     "end_time": "2023-11-11T12:57:24.998603100Z",
     "start_time": "2023-11-11T12:49:43.327406Z"
    }
   },
   "id": "65cae3a5c600c2c9"
  },
  {
   "cell_type": "code",
   "execution_count": 7,
   "outputs": [
    {
     "data": {
      "text/plain": "{'train_id': 829,\n 'current_station_id': 11094,\n 'target_station_id': 11137,\n 'ts': Timestamp('2023-08-31 16:06:00')}"
     },
     "execution_count": 7,
     "metadata": {},
     "output_type": "execute_result"
    }
   ],
   "source": [
    "wagons[9902]"
   ],
   "metadata": {
    "collapsed": false,
    "ExecuteTime": {
     "end_time": "2023-11-11T12:57:33.930943500Z",
     "start_time": "2023-11-11T12:57:33.912058100Z"
    }
   },
   "id": "3bfb46cc24089b0d"
  },
  {
   "cell_type": "code",
   "execution_count": 8,
   "outputs": [
    {
     "data": {
      "text/plain": "          WAGNUM            OPERDATE  ST_ID_DISL  ST_ID_DEST      TRAIN_INDEX\n11200075    9902 2023-06-08 23:03:00        1770      1770.0    2879-290-1770\n11200000    9902 2023-06-08 23:03:01        1770      1770.0    2879-290-1770\n11200139    9902 2023-06-08 23:04:00        1770      1770.0    2879-290-1770\n11200084    9902 2023-06-08 23:05:00        1770      1770.0    2879-290-1770\n3543917     9902 2023-06-09 03:42:00        1770     14766.0    2879-290-1770\n...          ...                 ...         ...         ...              ...\n3183827     9902 2023-08-31 11:35:00       11094     11137.0  10686-920-11094\n3183826     9902 2023-08-31 12:47:00       11094     11137.0  10686-920-11094\n3183825     9902 2023-08-31 13:34:00       11094     11137.0  10686-920-11094\n3183823     9902 2023-08-31 15:42:00       11094     11137.0  10686-920-11094\n3183822     9902 2023-08-31 16:06:00       11094     11137.0  10686-920-11094\n\n[783 rows x 5 columns]",
      "text/html": "<div>\n<style scoped>\n    .dataframe tbody tr th:only-of-type {\n        vertical-align: middle;\n    }\n\n    .dataframe tbody tr th {\n        vertical-align: top;\n    }\n\n    .dataframe thead th {\n        text-align: right;\n    }\n</style>\n<table border=\"1\" class=\"dataframe\">\n  <thead>\n    <tr style=\"text-align: right;\">\n      <th></th>\n      <th>WAGNUM</th>\n      <th>OPERDATE</th>\n      <th>ST_ID_DISL</th>\n      <th>ST_ID_DEST</th>\n      <th>TRAIN_INDEX</th>\n    </tr>\n  </thead>\n  <tbody>\n    <tr>\n      <th>11200075</th>\n      <td>9902</td>\n      <td>2023-06-08 23:03:00</td>\n      <td>1770</td>\n      <td>1770.0</td>\n      <td>2879-290-1770</td>\n    </tr>\n    <tr>\n      <th>11200000</th>\n      <td>9902</td>\n      <td>2023-06-08 23:03:01</td>\n      <td>1770</td>\n      <td>1770.0</td>\n      <td>2879-290-1770</td>\n    </tr>\n    <tr>\n      <th>11200139</th>\n      <td>9902</td>\n      <td>2023-06-08 23:04:00</td>\n      <td>1770</td>\n      <td>1770.0</td>\n      <td>2879-290-1770</td>\n    </tr>\n    <tr>\n      <th>11200084</th>\n      <td>9902</td>\n      <td>2023-06-08 23:05:00</td>\n      <td>1770</td>\n      <td>1770.0</td>\n      <td>2879-290-1770</td>\n    </tr>\n    <tr>\n      <th>3543917</th>\n      <td>9902</td>\n      <td>2023-06-09 03:42:00</td>\n      <td>1770</td>\n      <td>14766.0</td>\n      <td>2879-290-1770</td>\n    </tr>\n    <tr>\n      <th>...</th>\n      <td>...</td>\n      <td>...</td>\n      <td>...</td>\n      <td>...</td>\n      <td>...</td>\n    </tr>\n    <tr>\n      <th>3183827</th>\n      <td>9902</td>\n      <td>2023-08-31 11:35:00</td>\n      <td>11094</td>\n      <td>11137.0</td>\n      <td>10686-920-11094</td>\n    </tr>\n    <tr>\n      <th>3183826</th>\n      <td>9902</td>\n      <td>2023-08-31 12:47:00</td>\n      <td>11094</td>\n      <td>11137.0</td>\n      <td>10686-920-11094</td>\n    </tr>\n    <tr>\n      <th>3183825</th>\n      <td>9902</td>\n      <td>2023-08-31 13:34:00</td>\n      <td>11094</td>\n      <td>11137.0</td>\n      <td>10686-920-11094</td>\n    </tr>\n    <tr>\n      <th>3183823</th>\n      <td>9902</td>\n      <td>2023-08-31 15:42:00</td>\n      <td>11094</td>\n      <td>11137.0</td>\n      <td>10686-920-11094</td>\n    </tr>\n    <tr>\n      <th>3183822</th>\n      <td>9902</td>\n      <td>2023-08-31 16:06:00</td>\n      <td>11094</td>\n      <td>11137.0</td>\n      <td>10686-920-11094</td>\n    </tr>\n  </tbody>\n</table>\n<p>783 rows × 5 columns</p>\n</div>"
     },
     "execution_count": 8,
     "metadata": {},
     "output_type": "execute_result"
    }
   ],
   "source": [
    "# find records where wagon id == 9902\n",
    "df[df['WAGNUM'] == 9902]"
   ],
   "metadata": {
    "collapsed": false,
    "ExecuteTime": {
     "end_time": "2023-11-11T12:57:36.612225100Z",
     "start_time": "2023-11-11T12:57:36.576440700Z"
    }
   },
   "id": "86cea0a4b1cc36ae"
  },
  {
   "cell_type": "code",
   "execution_count": 9,
   "outputs": [
    {
     "data": {
      "text/plain": "{'start_station_id': 22690,\n 'current_station_id': 2879,\n 'end_station_id': 2879,\n 'ts': Timestamp('2023-08-31 21:25:00')}"
     },
     "execution_count": 9,
     "metadata": {},
     "output_type": "execute_result"
    }
   ],
   "source": [
    "trains[829]"
   ],
   "metadata": {
    "collapsed": false,
    "ExecuteTime": {
     "end_time": "2023-11-11T12:57:41.166908600Z",
     "start_time": "2023-11-11T12:57:41.159400300Z"
    }
   },
   "id": "8331fad7ebceb275"
  },
  {
   "cell_type": "code",
   "execution_count": 10,
   "outputs": [],
   "source": [
    "from models import Train\n",
    "\n",
    "train_models = []\n",
    "\n",
    "for id, train in trains.items():\n",
    "    model = Train(\n",
    "        id=id,\n",
    "        **train\n",
    "    )\n",
    "    train_models.append(model)\n",
    "    "
   ],
   "metadata": {
    "collapsed": false,
    "ExecuteTime": {
     "end_time": "2023-11-11T12:57:58.235937300Z",
     "start_time": "2023-11-11T12:57:58.097150400Z"
    }
   },
   "id": "5b1ad7bc12f7126"
  },
  {
   "cell_type": "code",
   "execution_count": 11,
   "outputs": [],
   "source": [
    "from models import Wagon\n",
    "\n",
    "wagon_models = []\n",
    "\n",
    "for id, wagon in wagons.items():\n",
    "    model = Wagon(\n",
    "        id=id,\n",
    "        **wagon\n",
    "    )\n",
    "    wagon_models.append(model)"
   ],
   "metadata": {
    "collapsed": false,
    "ExecuteTime": {
     "end_time": "2023-11-11T12:58:01.472591500Z",
     "start_time": "2023-11-11T12:58:01.385150400Z"
    }
   },
   "id": "13f6e443ae731993"
  },
  {
   "cell_type": "code",
   "execution_count": 12,
   "outputs": [],
   "source": [
    "from controller import Session, engine\n",
    "from models import Base\n",
    "\n",
    "Base.metadata.create_all(engine)"
   ],
   "metadata": {
    "collapsed": false,
    "ExecuteTime": {
     "end_time": "2023-11-11T12:58:03.140972500Z",
     "start_time": "2023-11-11T12:58:03.105601400Z"
    }
   },
   "id": "ab26c29808ca37d7"
  },
  {
   "cell_type": "code",
   "execution_count": 13,
   "outputs": [],
   "source": [
    "Session.add_all(train_models)\n",
    "Session.add_all(wagon_models)\n",
    "\n",
    "Session.commit()"
   ],
   "metadata": {
    "collapsed": false,
    "ExecuteTime": {
     "end_time": "2023-11-11T12:58:05.550973800Z",
     "start_time": "2023-11-11T12:58:05.220999300Z"
    }
   },
   "id": "8cd62cc23f24e9f4"
  }
 ],
 "metadata": {
  "kernelspec": {
   "display_name": "Python 3",
   "language": "python",
   "name": "python3"
  },
  "language_info": {
   "codemirror_mode": {
    "name": "ipython",
    "version": 2
   },
   "file_extension": ".py",
   "mimetype": "text/x-python",
   "name": "python",
   "nbconvert_exporter": "python",
   "pygments_lexer": "ipython2",
   "version": "2.7.6"
  }
 },
 "nbformat": 4,
 "nbformat_minor": 5
}
